{
 "cells": [
  {
   "cell_type": "code",
   "execution_count": 16,
   "metadata": {},
   "outputs": [
    {
     "ename": "ModuleNotFoundError",
     "evalue": "No module named 'plotly'",
     "output_type": "error",
     "traceback": [
      "\u001b[0;31m---------------------------------------------------------------------------\u001b[0m",
      "\u001b[0;31mModuleNotFoundError\u001b[0m                       Traceback (most recent call last)",
      "\u001b[0;32m<ipython-input-16-701fa2c22bf9>\u001b[0m in \u001b[0;36m<module>\u001b[0;34m\u001b[0m\n\u001b[1;32m      1\u001b[0m \u001b[0;32mimport\u001b[0m \u001b[0mpandas\u001b[0m \u001b[0;32mas\u001b[0m \u001b[0mpd\u001b[0m\u001b[0;34m\u001b[0m\u001b[0;34m\u001b[0m\u001b[0m\n\u001b[0;32m----> 2\u001b[0;31m \u001b[0;32mimport\u001b[0m \u001b[0mplotly\u001b[0m\u001b[0;34m.\u001b[0m\u001b[0mexpress\u001b[0m \u001b[0;32mas\u001b[0m \u001b[0mpx\u001b[0m\u001b[0;34m\u001b[0m\u001b[0;34m\u001b[0m\u001b[0m\n\u001b[0m",
      "\u001b[0;31mModuleNotFoundError\u001b[0m: No module named 'plotly'"
     ]
    }
   ],
   "source": [
    "import pandas as pd\n",
    "import plotly.express as px"
   ]
  },
  {
   "cell_type": "markdown",
   "metadata": {},
   "source": [
    "# Data Processing\n",
    "\n",
    "## Load data, join treatment and control groups\n",
    "\n",
    "Load treatment data, rename columns, and make a dictionary so we can reference back to the verbose names given in the raw survey data"
   ]
  },
  {
   "cell_type": "code",
   "execution_count": 17,
   "metadata": {},
   "outputs": [],
   "source": [
    "df = pd.read_csv('./data/survey_raw_treatment.csv')\n",
    "\n",
    "names = ['timestamp', 'id', 'freq_browser', 'freq_phone',\n",
    "         'length_use', 'freq_use', 'ability_find_tasks',\n",
    "         'promptly_find_tasks', 'text_search_preference',\n",
    "         'notification_preference', 'message_preference',\n",
    "         'understood', 'browsers', 'work_aids', 'fora',\n",
    "         'other_markets', 'other_markets_length_use',\n",
    "         'authority_comfort', 'collective_individual_scale',\n",
    "         'planning_scale', 'timeliness_scale', 'emotion_scale',\n",
    "         'success_rating', 'leadership_rating', 'leadership_preference',\n",
    "         'gender_preference', 'multitasking', 'short_term_plans',\n",
    "         'linear_work_style', 'plan_change_aversion', 'plan_change_adaptable',\n",
    "         'lateness_aversion', 'blank', 'spare_time_alone',\n",
    "         'commitment_others_over_self', 'close_over_casual_friends',\n",
    "         'internet_friends', 'support_from_friends', 'pandemic_effect_magnitude',\n",
    "         'chosen_task_completion_confidence', 'complex_task_completion_confidence',\n",
    "         'neutral', 'task_satisfaction', 'likelihood_continued_use',\n",
    "         'task_motivation', 'plugin_preference', 'current_country',\n",
    "         'home_country', 'only_one_country', 'education', 'gender', 'age']\n",
    "\n",
    "aliases = dict(zip(names, df.columns))\n",
    "\n",
    "df.columns = names"
   ]
  },
  {
   "cell_type": "markdown",
   "metadata": {},
   "source": [
    "Load control data and add a column marking observations according to their group"
   ]
  },
  {
   "cell_type": "code",
   "execution_count": 18,
   "metadata": {},
   "outputs": [],
   "source": [
    "df['group'] = 'treatment'\n",
    "\n",
    "control1 = pd.read_csv('./data/survey_raw_control-1.csv', names=names, header=0)\n",
    "control2 = pd.read_csv('./data/survey_raw_control-2.csv', names=names, header=0)\n",
    "control1['group'] = 'control'\n",
    "control2['group'] = 'control'\n",
    "\n",
    "df = pd.concat([df, control1, control2])\n",
    "del control1\n",
    "del control2"
   ]
  },
  {
   "cell_type": "markdown",
   "metadata": {},
   "source": [
    "## Add Chronicity Data\n",
    "\n",
    "Chronicity data is manually inferred and/or recorded for each country based on Table 14 from [1] and Table 3 from [2]. We label each subject with the chronicity corresponding to their home country.\n",
    "\n",
    "[1] https://citeseerx.ist.psu.edu/viewdoc/download?doi=10.1.1.531.7470&rep=rep1&type=pdf\n",
    "\n",
    "[2] https://www.researchgate.net/publication/4781353_A_multi-country_study_of_the_adoption_of_ERP_systems"
   ]
  },
  {
   "cell_type": "code",
   "execution_count": 19,
   "metadata": {
    "tags": []
   },
   "outputs": [],
   "source": [
    "chronicity = pd.read_csv('./data/country_chronicity.csv')\n",
    "chronicity = dict(zip(chronicity['country'], chronicity['chronicity']))\n",
    "df['chronicity'] = [chronicity[country] for country in df['home_country']]\n",
    "del chronicity"
   ]
  },
  {
   "cell_type": "markdown",
   "metadata": {},
   "source": [
    "## Add Economic Region Data\n",
    "\n",
    "Add a column indicating whether the worker is from Global North or South\n",
    "\n",
    "data source: https://github.com/wikimedia-research/canonical-data/blob/master/countries.csv"
   ]
  },
  {
   "cell_type": "code",
   "execution_count": 20,
   "metadata": {},
   "outputs": [
    {
     "data": {
      "text/plain": [
       "array(['Belarus', 'Mexico', 'Russia', 'Philippines', 'United States',\n",
       "       'United Kingdom', 'Ghana', 'Jordan', 'Dominican Republic',\n",
       "       'Nigeria', 'Pakistan', 'Brazil', 'Costa Rica', 'Vietnam',\n",
       "       'Venezuela', 'Canada', 'Kenya', 'Egypt', 'Morocco', 'India',\n",
       "       'Algeria', 'Myanmar', 'Portugal', 'Spain', 'South Africa',\n",
       "       'Bulgaria', 'Georgia', 'Poland', 'Saudi Arabia', 'Tanzania',\n",
       "       'Kazakhstan', 'Ukraine'], dtype=object)"
      ]
     },
     "execution_count": 20,
     "metadata": {},
     "output_type": "execute_result"
    }
   ],
   "source": [
    "# Inspect what countries are the workers from\n",
    "df['home_country'].unique()"
   ]
  },
  {
   "cell_type": "code",
   "execution_count": 21,
   "metadata": {},
   "outputs": [
    {
     "data": {
      "text/html": [
       "<div>\n",
       "<style scoped>\n",
       "    .dataframe tbody tr th:only-of-type {\n",
       "        vertical-align: middle;\n",
       "    }\n",
       "\n",
       "    .dataframe tbody tr th {\n",
       "        vertical-align: top;\n",
       "    }\n",
       "\n",
       "    .dataframe thead th {\n",
       "        text-align: right;\n",
       "    }\n",
       "</style>\n",
       "<table border=\"1\" class=\"dataframe\">\n",
       "  <thead>\n",
       "    <tr style=\"text-align: right;\">\n",
       "      <th></th>\n",
       "      <th>name</th>\n",
       "      <th>economic_region</th>\n",
       "    </tr>\n",
       "  </thead>\n",
       "  <tbody>\n",
       "    <tr>\n",
       "      <th>1</th>\n",
       "      <td>Afghanistan</td>\n",
       "      <td>Global South</td>\n",
       "    </tr>\n",
       "    <tr>\n",
       "      <th>2</th>\n",
       "      <td>Åland Islands</td>\n",
       "      <td>Global North</td>\n",
       "    </tr>\n",
       "    <tr>\n",
       "      <th>3</th>\n",
       "      <td>Albania</td>\n",
       "      <td>Global North</td>\n",
       "    </tr>\n",
       "    <tr>\n",
       "      <th>4</th>\n",
       "      <td>Algeria</td>\n",
       "      <td>Global South</td>\n",
       "    </tr>\n",
       "    <tr>\n",
       "      <th>5</th>\n",
       "      <td>American Samoa</td>\n",
       "      <td>Global South</td>\n",
       "    </tr>\n",
       "    <tr>\n",
       "      <th>...</th>\n",
       "      <td>...</td>\n",
       "      <td>...</td>\n",
       "    </tr>\n",
       "    <tr>\n",
       "      <th>246</th>\n",
       "      <td>Wallis and Futuna</td>\n",
       "      <td>Global South</td>\n",
       "    </tr>\n",
       "    <tr>\n",
       "      <th>247</th>\n",
       "      <td>Western Sahara</td>\n",
       "      <td>Global South</td>\n",
       "    </tr>\n",
       "    <tr>\n",
       "      <th>248</th>\n",
       "      <td>Yemen</td>\n",
       "      <td>Global South</td>\n",
       "    </tr>\n",
       "    <tr>\n",
       "      <th>249</th>\n",
       "      <td>Zambia</td>\n",
       "      <td>Global South</td>\n",
       "    </tr>\n",
       "    <tr>\n",
       "      <th>250</th>\n",
       "      <td>Zimbabwe</td>\n",
       "      <td>Global South</td>\n",
       "    </tr>\n",
       "  </tbody>\n",
       "</table>\n",
       "<p>250 rows × 2 columns</p>\n",
       "</div>"
      ],
      "text/plain": [
       "                  name economic_region\n",
       "1          Afghanistan    Global South\n",
       "2        Åland Islands    Global North\n",
       "3              Albania    Global North\n",
       "4              Algeria    Global South\n",
       "5       American Samoa    Global South\n",
       "..                 ...             ...\n",
       "246  Wallis and Futuna    Global South\n",
       "247     Western Sahara    Global South\n",
       "248              Yemen    Global South\n",
       "249             Zambia    Global South\n",
       "250           Zimbabwe    Global South\n",
       "\n",
       "[250 rows x 2 columns]"
      ]
     },
     "execution_count": 21,
     "metadata": {},
     "output_type": "execute_result"
    }
   ],
   "source": [
    "country_region = pd.read_csv('./data/country_region.csv')\n",
    "country_region.index = country_region.index + 1\n",
    "country_region = country_region.iloc[:-1 , :][[\"name\",\"economic_region\"]]\n",
    "country_region"
   ]
  },
  {
   "cell_type": "code",
   "execution_count": 22,
   "metadata": {},
   "outputs": [
    {
     "data": {
      "text/html": [
       "<div>\n",
       "<style scoped>\n",
       "    .dataframe tbody tr th:only-of-type {\n",
       "        vertical-align: middle;\n",
       "    }\n",
       "\n",
       "    .dataframe tbody tr th {\n",
       "        vertical-align: top;\n",
       "    }\n",
       "\n",
       "    .dataframe thead th {\n",
       "        text-align: right;\n",
       "    }\n",
       "</style>\n",
       "<table border=\"1\" class=\"dataframe\">\n",
       "  <thead>\n",
       "    <tr style=\"text-align: right;\">\n",
       "      <th></th>\n",
       "      <th>id</th>\n",
       "      <th>home_country</th>\n",
       "      <th>region</th>\n",
       "    </tr>\n",
       "  </thead>\n",
       "  <tbody>\n",
       "    <tr>\n",
       "      <th>0</th>\n",
       "      <td>2aef4422f3276e44b1eea0c2a89374</td>\n",
       "      <td>Belarus</td>\n",
       "      <td>global_south</td>\n",
       "    </tr>\n",
       "    <tr>\n",
       "      <th>1</th>\n",
       "      <td>af2a7da96237f5baa54f6e67c1c0f1</td>\n",
       "      <td>Mexico</td>\n",
       "      <td>global_south</td>\n",
       "    </tr>\n",
       "    <tr>\n",
       "      <th>2</th>\n",
       "      <td>1cb48555a624b4c6fbe5e811271eb</td>\n",
       "      <td>Russia</td>\n",
       "      <td>global_north</td>\n",
       "    </tr>\n",
       "    <tr>\n",
       "      <th>3</th>\n",
       "      <td>8d87dd60d895e59dd459a6593144461</td>\n",
       "      <td>Philippines</td>\n",
       "      <td>global_south</td>\n",
       "    </tr>\n",
       "    <tr>\n",
       "      <th>4</th>\n",
       "      <td>e2f37f95c0b82dc037a56f768d591b1e</td>\n",
       "      <td>United States</td>\n",
       "      <td>global_north</td>\n",
       "    </tr>\n",
       "    <tr>\n",
       "      <th>...</th>\n",
       "      <td>...</td>\n",
       "      <td>...</td>\n",
       "      <td>...</td>\n",
       "    </tr>\n",
       "    <tr>\n",
       "      <th>33</th>\n",
       "      <td>732db8b6b7c6daeb4e36ab82758b9e42</td>\n",
       "      <td>Tanzania</td>\n",
       "      <td>global_south</td>\n",
       "    </tr>\n",
       "    <tr>\n",
       "      <th>34</th>\n",
       "      <td>559cbf8dad41224391887f67b67777f6</td>\n",
       "      <td>Kenya</td>\n",
       "      <td>global_south</td>\n",
       "    </tr>\n",
       "    <tr>\n",
       "      <th>35</th>\n",
       "      <td>e11e709a1d4b887ae15b821629a899</td>\n",
       "      <td>Russia</td>\n",
       "      <td>global_north</td>\n",
       "    </tr>\n",
       "    <tr>\n",
       "      <th>36</th>\n",
       "      <td>fa50dd3e40cd54201a6f4a3c5f45ecda</td>\n",
       "      <td>Kazakhstan</td>\n",
       "      <td>global_south</td>\n",
       "    </tr>\n",
       "    <tr>\n",
       "      <th>37</th>\n",
       "      <td>f03c3079231dcac6d32d0803ac36b1e</td>\n",
       "      <td>Ukraine</td>\n",
       "      <td>global_south</td>\n",
       "    </tr>\n",
       "  </tbody>\n",
       "</table>\n",
       "<p>164 rows × 3 columns</p>\n",
       "</div>"
      ],
      "text/plain": [
       "                                  id   home_country        region\n",
       "0     2aef4422f3276e44b1eea0c2a89374        Belarus  global_south\n",
       "1     af2a7da96237f5baa54f6e67c1c0f1         Mexico  global_south\n",
       "2      1cb48555a624b4c6fbe5e811271eb         Russia  global_north\n",
       "3    8d87dd60d895e59dd459a6593144461    Philippines  global_south\n",
       "4   e2f37f95c0b82dc037a56f768d591b1e  United States  global_north\n",
       "..                               ...            ...           ...\n",
       "33  732db8b6b7c6daeb4e36ab82758b9e42       Tanzania  global_south\n",
       "34  559cbf8dad41224391887f67b67777f6          Kenya  global_south\n",
       "35    e11e709a1d4b887ae15b821629a899         Russia  global_north\n",
       "36  fa50dd3e40cd54201a6f4a3c5f45ecda     Kazakhstan  global_south\n",
       "37   f03c3079231dcac6d32d0803ac36b1e        Ukraine  global_south\n",
       "\n",
       "[164 rows x 3 columns]"
      ]
     },
     "execution_count": 22,
     "metadata": {},
     "output_type": "execute_result"
    }
   ],
   "source": [
    "global_south = list(country_region[country_region['economic_region'] == 'Global South']['name'])\n",
    "global_north = list(country_region[country_region['economic_region'] == 'Global North']['name'])\n",
    "\n",
    "# Add a column indicating whether the worker is from Global North or South\n",
    "def replace_region(row):\n",
    "    if row['home_country'] in global_south:\n",
    "        return 'global_south'\n",
    "    \n",
    "    if row['home_country'] in global_north:\n",
    "        return 'global_north'\n",
    "    else: \n",
    "        print (\"Error!\")\n",
    "        \n",
    "df['region'] = df.apply(lambda row: replace_region(row), axis=1)\n",
    "df[['id', 'home_country','region']]\n",
    "\n",
    "# fron here we can slice the data based on region"
   ]
  },
  {
   "cell_type": "code",
   "execution_count": 23,
   "metadata": {},
   "outputs": [
    {
     "name": "stdout",
     "output_type": "stream",
     "text": [
      "num_south:  93\n",
      "num_north:  71\n"
     ]
    }
   ],
   "source": [
    "# count the number of people from global_north and global south\n",
    "print(\"num_south: \", len(list(filter(lambda x: x == \"global_south\", df['region']))))\n",
    "print(\"num_north: \", len(list(filter(lambda x: x == \"global_north\", df['region']))))"
   ]
  },
  {
   "cell_type": "markdown",
   "metadata": {},
   "source": [
    "## Data Exploration\n",
    "\n",
    "### Treatment Group\n",
    "\n",
    "Summarize what workers from global north and global south responded to question 1-4"
   ]
  },
  {
   "cell_type": "code",
   "execution_count": 24,
   "metadata": {
    "scrolled": true
   },
   "outputs": [
    {
     "ename": "NameError",
     "evalue": "name 'px' is not defined",
     "output_type": "error",
     "traceback": [
      "\u001b[0;31m---------------------------------------------------------------------------\u001b[0m",
      "\u001b[0;31mNameError\u001b[0m                                 Traceback (most recent call last)",
      "\u001b[0;32m<ipython-input-24-a76e42092e63>\u001b[0m in \u001b[0;36m<module>\u001b[0;34m\u001b[0m\n\u001b[0;32m----> 1\u001b[0;31m fig = px.histogram(df[df['group']=='treatment'], y='freq_browser', color='region', barmode='group',\n\u001b[0m\u001b[1;32m      2\u001b[0m                    \u001b[0mhistnorm\u001b[0m\u001b[0;34m=\u001b[0m\u001b[0;34m'percent'\u001b[0m\u001b[0;34m,\u001b[0m \u001b[0mtitle\u001b[0m\u001b[0;34m=\u001b[0m\u001b[0maliases\u001b[0m\u001b[0;34m[\u001b[0m\u001b[0;34m'freq_browser'\u001b[0m\u001b[0;34m]\u001b[0m\u001b[0;34m,\u001b[0m\u001b[0;34m\u001b[0m\u001b[0;34m\u001b[0m\u001b[0m\n\u001b[1;32m      3\u001b[0m                    category_orders=dict(freq_browser=[\"Always\", \"Often\", \"Sometimes\", \"Rarely\", \"Never\"]))\n\u001b[1;32m      4\u001b[0m \u001b[0mfig\u001b[0m\u001b[0;34m.\u001b[0m\u001b[0mshow\u001b[0m\u001b[0;34m(\u001b[0m\u001b[0;34m)\u001b[0m\u001b[0;34m\u001b[0m\u001b[0;34m\u001b[0m\u001b[0m\n",
      "\u001b[0;31mNameError\u001b[0m: name 'px' is not defined"
     ]
    }
   ],
   "source": [
    "fig = px.histogram(df[df['group']=='treatment'], y='freq_browser', color='region', barmode='group',\n",
    "                   histnorm='percent', title=aliases['freq_browser'],\n",
    "                   category_orders=dict(freq_browser=[\"Always\", \"Often\", \"Sometimes\", \"Rarely\", \"Never\"]))\n",
    "fig.show()"
   ]
  },
  {
   "cell_type": "markdown",
   "metadata": {},
   "source": [
    "1. Always: People from global_south are more likely (and more often) to use Toloka on the web browser vs. people from global north.\n",
    "2. Often: People from global_north are more likely to use Toloka often on the web browser\n",
    "3. Sometimes: People from global_north are more likely to use Toloka some times on the web browser"
   ]
  },
  {
   "cell_type": "code",
   "execution_count": 25,
   "metadata": {},
   "outputs": [
    {
     "ename": "NameError",
     "evalue": "name 'px' is not defined",
     "output_type": "error",
     "traceback": [
      "\u001b[0;31m---------------------------------------------------------------------------\u001b[0m",
      "\u001b[0;31mNameError\u001b[0m                                 Traceback (most recent call last)",
      "\u001b[0;32m<ipython-input-25-52d7eb7a55c7>\u001b[0m in \u001b[0;36m<module>\u001b[0;34m\u001b[0m\n\u001b[0;32m----> 1\u001b[0;31m fig = px.histogram(df[df['group']=='treatment'], y='freq_phone', color='region', barmode='group',\n\u001b[0m\u001b[1;32m      2\u001b[0m                    \u001b[0mhistnorm\u001b[0m\u001b[0;34m=\u001b[0m\u001b[0;34m'percent'\u001b[0m\u001b[0;34m,\u001b[0m \u001b[0mtitle\u001b[0m\u001b[0;34m=\u001b[0m\u001b[0maliases\u001b[0m\u001b[0;34m[\u001b[0m\u001b[0;34m'freq_phone'\u001b[0m\u001b[0;34m]\u001b[0m\u001b[0;34m,\u001b[0m\u001b[0;34m\u001b[0m\u001b[0;34m\u001b[0m\u001b[0m\n\u001b[1;32m      3\u001b[0m                    category_orders=dict(freq_phone=[\"Always\", \"Often\", \"Sometimes\", \"Rarely\", \"Never\"]))\n\u001b[1;32m      4\u001b[0m \u001b[0mfig\u001b[0m\u001b[0;34m.\u001b[0m\u001b[0mshow\u001b[0m\u001b[0;34m(\u001b[0m\u001b[0;34m)\u001b[0m\u001b[0;34m\u001b[0m\u001b[0;34m\u001b[0m\u001b[0m\n",
      "\u001b[0;31mNameError\u001b[0m: name 'px' is not defined"
     ]
    }
   ],
   "source": [
    "fig = px.histogram(df[df['group']=='treatment'], y='freq_phone', color='region', barmode='group',\n",
    "                   histnorm='percent', title=aliases['freq_phone'],\n",
    "                   category_orders=dict(freq_phone=[\"Always\", \"Often\", \"Sometimes\", \"Rarely\", \"Never\"]))\n",
    "fig.show()"
   ]
  },
  {
   "cell_type": "markdown",
   "metadata": {},
   "source": [
    "1. Always: People from global_north are more likely to always use Toloka \n",
    "\n",
    "2. Often: People from global_south are more likely to use Toloka often\n",
    "3. Sometimes: People from global_north are more likely to use Toloka sometimes \n",
    "4. Rarely: People from global_north are more likely to use Toloka rarely\n",
    "5. Never: People from global_north are more likely to never use Toloka "
   ]
  },
  {
   "cell_type": "code",
   "execution_count": 26,
   "metadata": {},
   "outputs": [
    {
     "ename": "NameError",
     "evalue": "name 'px' is not defined",
     "output_type": "error",
     "traceback": [
      "\u001b[0;31m---------------------------------------------------------------------------\u001b[0m",
      "\u001b[0;31mNameError\u001b[0m                                 Traceback (most recent call last)",
      "\u001b[0;32m<ipython-input-26-025d08439d05>\u001b[0m in \u001b[0;36m<module>\u001b[0;34m\u001b[0m\n\u001b[0;32m----> 1\u001b[0;31m fig = px.histogram(df[df['group']=='treatment'], y='length_use', color='region', barmode='group',\n\u001b[0m\u001b[1;32m      2\u001b[0m                    \u001b[0mhistnorm\u001b[0m\u001b[0;34m=\u001b[0m\u001b[0;34m'percent'\u001b[0m\u001b[0;34m,\u001b[0m \u001b[0mtitle\u001b[0m\u001b[0;34m=\u001b[0m\u001b[0maliases\u001b[0m\u001b[0;34m[\u001b[0m\u001b[0;34m'length_use'\u001b[0m\u001b[0;34m]\u001b[0m\u001b[0;34m,\u001b[0m\u001b[0;34m\u001b[0m\u001b[0;34m\u001b[0m\u001b[0m\n\u001b[1;32m      3\u001b[0m                    category_orders=dict(length_use=[\"Less than a month\",\n\u001b[1;32m      4\u001b[0m                                                     \u001b[0;34m\"Between 1 and 3 months\"\u001b[0m\u001b[0;34m,\u001b[0m\u001b[0;34m\u001b[0m\u001b[0;34m\u001b[0m\u001b[0m\n\u001b[1;32m      5\u001b[0m                                                     \u001b[0;34m\"Between 3 and 6 months\"\u001b[0m\u001b[0;34m,\u001b[0m\u001b[0;34m\u001b[0m\u001b[0;34m\u001b[0m\u001b[0m\n",
      "\u001b[0;31mNameError\u001b[0m: name 'px' is not defined"
     ]
    }
   ],
   "source": [
    "fig = px.histogram(df[df['group']=='treatment'], y='length_use', color='region', barmode='group',\n",
    "                   histnorm='percent', title=aliases['length_use'],\n",
    "                   category_orders=dict(length_use=[\"Less than a month\",\n",
    "                                                    \"Between 1 and 3 months\",\n",
    "                                                    \"Between 3 and 6 months\",\n",
    "                                                    \"Between 6 months and 1 year\",\n",
    "                                                    \"Between 1 and 2 years\",\n",
    "                                                    \"More than 2 and 3 years\",\n",
    "                                                    \"More than 3 years\"]))\n",
    "fig.show()"
   ]
  },
  {
   "cell_type": "markdown",
   "metadata": {},
   "source": [
    "People from global south tend to work on Toloka longer than people from global north."
   ]
  },
  {
   "cell_type": "code",
   "execution_count": 27,
   "metadata": {},
   "outputs": [
    {
     "ename": "NameError",
     "evalue": "name 'px' is not defined",
     "output_type": "error",
     "traceback": [
      "\u001b[0;31m---------------------------------------------------------------------------\u001b[0m",
      "\u001b[0;31mNameError\u001b[0m                                 Traceback (most recent call last)",
      "\u001b[0;32m<ipython-input-27-29d2782db27e>\u001b[0m in \u001b[0;36m<module>\u001b[0;34m\u001b[0m\n\u001b[0;32m----> 1\u001b[0;31m fig = px.histogram(df[df['group']=='treatment'], y='freq_use', color='region', barmode='group',\n\u001b[0m\u001b[1;32m      2\u001b[0m                    \u001b[0mhistnorm\u001b[0m\u001b[0;34m=\u001b[0m\u001b[0;34m'percent'\u001b[0m\u001b[0;34m,\u001b[0m \u001b[0mtitle\u001b[0m\u001b[0;34m=\u001b[0m\u001b[0maliases\u001b[0m\u001b[0;34m[\u001b[0m\u001b[0;34m'freq_use'\u001b[0m\u001b[0;34m]\u001b[0m\u001b[0;34m,\u001b[0m\u001b[0;34m\u001b[0m\u001b[0;34m\u001b[0m\u001b[0m\n\u001b[1;32m      3\u001b[0m                    category_orders=dict(freq_use=[\"Everyday\", \"From five to six days a week\",\n\u001b[1;32m      4\u001b[0m                                                   \u001b[0;34m\"From three to four days a week\"\u001b[0m\u001b[0;34m,\u001b[0m\u001b[0;34m\u001b[0m\u001b[0;34m\u001b[0m\u001b[0m\n\u001b[1;32m      5\u001b[0m                                                   \"Once or twice a week\", \"Less than once a week\"]))\n",
      "\u001b[0;31mNameError\u001b[0m: name 'px' is not defined"
     ]
    }
   ],
   "source": [
    "fig = px.histogram(df[df['group']=='treatment'], y='freq_use', color='region', barmode='group',\n",
    "                   histnorm='percent', title=aliases['freq_use'],\n",
    "                   category_orders=dict(freq_use=[\"Everyday\", \"From five to six days a week\",\n",
    "                                                  \"From three to four days a week\",\n",
    "                                                  \"Once or twice a week\", \"Less than once a week\"]))\n",
    "fig.show()"
   ]
  },
  {
   "cell_type": "markdown",
   "metadata": {},
   "source": [
    "People from globak_south are more likely to work on Toloka everyday, while people from global_north are more likely to work on Toloka from 5-6 days a week, from 3-4 days a week, and once or twice a week."
   ]
  },
  {
   "cell_type": "code",
   "execution_count": 28,
   "metadata": {},
   "outputs": [
    {
     "ename": "NameError",
     "evalue": "name 'px' is not defined",
     "output_type": "error",
     "traceback": [
      "\u001b[0;31m---------------------------------------------------------------------------\u001b[0m",
      "\u001b[0;31mNameError\u001b[0m                                 Traceback (most recent call last)",
      "\u001b[0;32m<ipython-input-28-2b5deba65764>\u001b[0m in \u001b[0;36m<module>\u001b[0;34m\u001b[0m\n\u001b[0;32m----> 1\u001b[0;31m fig = px.histogram(df[df['group']=='treatment'], y='ability_find_tasks', color='region',\n\u001b[0m\u001b[1;32m      2\u001b[0m                    \u001b[0mbarmode\u001b[0m\u001b[0;34m=\u001b[0m\u001b[0;34m'group'\u001b[0m\u001b[0;34m,\u001b[0m \u001b[0mhistnorm\u001b[0m\u001b[0;34m=\u001b[0m\u001b[0;34m'percent'\u001b[0m\u001b[0;34m,\u001b[0m\u001b[0;34m\u001b[0m\u001b[0;34m\u001b[0m\u001b[0m\n\u001b[1;32m      3\u001b[0m                    \u001b[0mtitle\u001b[0m\u001b[0;34m=\u001b[0m\u001b[0maliases\u001b[0m\u001b[0;34m[\u001b[0m\u001b[0;34m'ability_find_tasks'\u001b[0m\u001b[0;34m]\u001b[0m\u001b[0;34m.\u001b[0m\u001b[0mreplace\u001b[0m\u001b[0;34m(\u001b[0m\u001b[0;34m' ['\u001b[0m\u001b[0;34m,\u001b[0m \u001b[0;34m'<br>['\u001b[0m\u001b[0;34m)\u001b[0m\u001b[0;34m,\u001b[0m\u001b[0;34m\u001b[0m\u001b[0;34m\u001b[0m\u001b[0m\n\u001b[1;32m      4\u001b[0m                    category_orders=dict(ability_find_tasks=[\"Strongly disagree\", \"Disagree\",\n\u001b[1;32m      5\u001b[0m                                                             \"Neutral\", \"Agree\", \"Strongly Agree\"]))\n",
      "\u001b[0;31mNameError\u001b[0m: name 'px' is not defined"
     ]
    }
   ],
   "source": [
    "fig = px.histogram(df[df['group']=='treatment'], y='ability_find_tasks', color='region',\n",
    "                   barmode='group', histnorm='percent',\n",
    "                   title=aliases['ability_find_tasks'].replace(' [', '<br>['),\n",
    "                   category_orders=dict(ability_find_tasks=[\"Strongly disagree\", \"Disagree\",\n",
    "                                                            \"Neutral\", \"Agree\", \"Strongly Agree\"]))\n",
    "fig.show()"
   ]
  },
  {
   "cell_type": "markdown",
   "metadata": {},
   "source": [
    "Strongly Agree:\n",
    "    North: 13/30 = 0.433\n",
    "    South: 27/59 = 0.458\n",
    "Agree:\n",
    "    North: 12/30 = 0.4\n",
    "    South: 16/59 = 0.271\n",
    "    \n",
    "People from global_north and global_south have relatively similar possibilities of having a positive feeling towards Toloka.\n",
    "While people from global_north are more likely to strongly disgaree that Toloka's interface allows them to find their preferred tasks."
   ]
  },
  {
   "cell_type": "code",
   "execution_count": 29,
   "metadata": {},
   "outputs": [
    {
     "ename": "NameError",
     "evalue": "name 'px' is not defined",
     "output_type": "error",
     "traceback": [
      "\u001b[0;31m---------------------------------------------------------------------------\u001b[0m",
      "\u001b[0;31mNameError\u001b[0m                                 Traceback (most recent call last)",
      "\u001b[0;32m<ipython-input-29-f19f880a3161>\u001b[0m in \u001b[0;36m<module>\u001b[0;34m\u001b[0m\n\u001b[0;32m----> 1\u001b[0;31m fig = px.histogram(df[df['group']=='treatment'], y='promptly_find_tasks', color='region',\n\u001b[0m\u001b[1;32m      2\u001b[0m                    \u001b[0mbarmode\u001b[0m\u001b[0;34m=\u001b[0m\u001b[0;34m'group'\u001b[0m\u001b[0;34m,\u001b[0m \u001b[0mhistnorm\u001b[0m\u001b[0;34m=\u001b[0m\u001b[0;34m'percent'\u001b[0m\u001b[0;34m,\u001b[0m\u001b[0;34m\u001b[0m\u001b[0;34m\u001b[0m\u001b[0m\n\u001b[1;32m      3\u001b[0m                    \u001b[0mtitle\u001b[0m\u001b[0;34m=\u001b[0m\u001b[0maliases\u001b[0m\u001b[0;34m[\u001b[0m\u001b[0;34m'promptly_find_tasks'\u001b[0m\u001b[0;34m]\u001b[0m\u001b[0;34m.\u001b[0m\u001b[0mreplace\u001b[0m\u001b[0;34m(\u001b[0m\u001b[0;34m' ['\u001b[0m\u001b[0;34m,\u001b[0m \u001b[0;34m'<br>['\u001b[0m\u001b[0;34m)\u001b[0m\u001b[0;34m,\u001b[0m\u001b[0;34m\u001b[0m\u001b[0;34m\u001b[0m\u001b[0m\n\u001b[1;32m      4\u001b[0m                    category_orders=dict(promptly_find_tasks=[\"Strongly disagree\", \"Disagree\",\n\u001b[1;32m      5\u001b[0m                                                             \"Neutral\", \"Agree\", \"Strongly Agree\"]))\n",
      "\u001b[0;31mNameError\u001b[0m: name 'px' is not defined"
     ]
    }
   ],
   "source": [
    "fig = px.histogram(df[df['group']=='treatment'], y='promptly_find_tasks', color='region',\n",
    "                   barmode='group', histnorm='percent',\n",
    "                   title=aliases['promptly_find_tasks'].replace(' [', '<br>['),\n",
    "                   category_orders=dict(promptly_find_tasks=[\"Strongly disagree\", \"Disagree\",\n",
    "                                                            \"Neutral\", \"Agree\", \"Strongly Agree\"]))\n",
    "fig.show()"
   ]
  },
  {
   "cell_type": "markdown",
   "metadata": {},
   "source": [
    "More than half of the people from global_north strongly agrees that they are able to find promptly new tasks that interests them the most while only 37.3% of people from global_south think so.\n",
    "\n",
    "About 18.6% of people from global south think they neither can or cannot find promptly new tasks that interests them the most, while only 6.7% of people from global north thinks so."
   ]
  },
  {
   "cell_type": "code",
   "execution_count": 30,
   "metadata": {},
   "outputs": [
    {
     "ename": "NameError",
     "evalue": "name 'px' is not defined",
     "output_type": "error",
     "traceback": [
      "\u001b[0;31m---------------------------------------------------------------------------\u001b[0m",
      "\u001b[0;31mNameError\u001b[0m                                 Traceback (most recent call last)",
      "\u001b[0;32m<ipython-input-30-ab2017eaa78b>\u001b[0m in \u001b[0;36m<module>\u001b[0;34m\u001b[0m\n\u001b[0;32m----> 1\u001b[0;31m fig = px.histogram(df[df['group']=='treatment'], y='text_search_preference', color='region',\n\u001b[0m\u001b[1;32m      2\u001b[0m                    \u001b[0mbarmode\u001b[0m\u001b[0;34m=\u001b[0m\u001b[0;34m'group'\u001b[0m\u001b[0;34m,\u001b[0m \u001b[0mhistnorm\u001b[0m\u001b[0;34m=\u001b[0m\u001b[0;34m'percent'\u001b[0m\u001b[0;34m,\u001b[0m\u001b[0;34m\u001b[0m\u001b[0;34m\u001b[0m\u001b[0m\n\u001b[1;32m      3\u001b[0m                    \u001b[0mtitle\u001b[0m\u001b[0;34m=\u001b[0m\u001b[0maliases\u001b[0m\u001b[0;34m[\u001b[0m\u001b[0;34m'text_search_preference'\u001b[0m\u001b[0;34m]\u001b[0m\u001b[0;34m.\u001b[0m\u001b[0mreplace\u001b[0m\u001b[0;34m(\u001b[0m\u001b[0;34m' ['\u001b[0m\u001b[0;34m,\u001b[0m \u001b[0;34m'<br>['\u001b[0m\u001b[0;34m)\u001b[0m\u001b[0;34m,\u001b[0m\u001b[0;34m\u001b[0m\u001b[0;34m\u001b[0m\u001b[0m\n\u001b[1;32m      4\u001b[0m                    category_orders=dict(text_search_preference=[\"Strongly disagree\", \"Disagree\",\n\u001b[1;32m      5\u001b[0m                                                             \"Neutral\", \"Agree\", \"Strongly Agree\"]))\n",
      "\u001b[0;31mNameError\u001b[0m: name 'px' is not defined"
     ]
    }
   ],
   "source": [
    "fig = px.histogram(df[df['group']=='treatment'], y='text_search_preference', color='region',\n",
    "                   barmode='group', histnorm='percent',\n",
    "                   title=aliases['text_search_preference'].replace(' [', '<br>['),\n",
    "                   category_orders=dict(text_search_preference=[\"Strongly disagree\", \"Disagree\",\n",
    "                                                            \"Neutral\", \"Agree\", \"Strongly Agree\"]))\n",
    "fig.show()"
   ]
  },
  {
   "cell_type": "markdown",
   "metadata": {},
   "source": [
    "63.3% of people from global_north strongly agrees that a text search for tasks feature would improve the interface; while 44.1% of people from global south thinks so. \n",
    "\n",
    "26.7% of people from north agrees vs. 37.3% of people agrees from the south"
   ]
  },
  {
   "cell_type": "code",
   "execution_count": 31,
   "metadata": {},
   "outputs": [
    {
     "ename": "NameError",
     "evalue": "name 'px' is not defined",
     "output_type": "error",
     "traceback": [
      "\u001b[0;31m---------------------------------------------------------------------------\u001b[0m",
      "\u001b[0;31mNameError\u001b[0m                                 Traceback (most recent call last)",
      "\u001b[0;32m<ipython-input-31-f87ca717470d>\u001b[0m in \u001b[0;36m<module>\u001b[0;34m\u001b[0m\n\u001b[0;32m----> 1\u001b[0;31m fig = px.histogram(df[df['group']=='treatment'], y='notification_preference', color='region', \n\u001b[0m\u001b[1;32m      2\u001b[0m                    \u001b[0mbarmode\u001b[0m\u001b[0;34m=\u001b[0m\u001b[0;34m'group'\u001b[0m\u001b[0;34m,\u001b[0m \u001b[0mhistnorm\u001b[0m\u001b[0;34m=\u001b[0m\u001b[0;34m'percent'\u001b[0m\u001b[0;34m,\u001b[0m\u001b[0;34m\u001b[0m\u001b[0;34m\u001b[0m\u001b[0m\n\u001b[1;32m      3\u001b[0m                    \u001b[0mtitle\u001b[0m\u001b[0;34m=\u001b[0m\u001b[0maliases\u001b[0m\u001b[0;34m[\u001b[0m\u001b[0;34m'notification_preference'\u001b[0m\u001b[0;34m]\u001b[0m\u001b[0;34m.\u001b[0m\u001b[0mreplace\u001b[0m\u001b[0;34m(\u001b[0m\u001b[0;34m' ['\u001b[0m\u001b[0;34m,\u001b[0m \u001b[0;34m'<br>['\u001b[0m\u001b[0;34m)\u001b[0m\u001b[0;34m,\u001b[0m\u001b[0;34m\u001b[0m\u001b[0;34m\u001b[0m\u001b[0m\n\u001b[1;32m      4\u001b[0m                    category_orders=dict(notification_preference=[\"Strongly disagree\", \"Disagree\",\n\u001b[1;32m      5\u001b[0m                                                             \"Neutral\", \"Agree\", \"Strongly Agree\"]))\n",
      "\u001b[0;31mNameError\u001b[0m: name 'px' is not defined"
     ]
    }
   ],
   "source": [
    "fig = px.histogram(df[df['group']=='treatment'], y='notification_preference', color='region', \n",
    "                   barmode='group', histnorm='percent',\n",
    "                   title=aliases['notification_preference'].replace(' [', '<br>['),\n",
    "                   category_orders=dict(notification_preference=[\"Strongly disagree\", \"Disagree\",\n",
    "                                                            \"Neutral\", \"Agree\", \"Strongly Agree\"]))\n",
    "fig.show()"
   ]
  },
  {
   "cell_type": "code",
   "execution_count": 32,
   "metadata": {},
   "outputs": [
    {
     "ename": "NameError",
     "evalue": "name 'px' is not defined",
     "output_type": "error",
     "traceback": [
      "\u001b[0;31m---------------------------------------------------------------------------\u001b[0m",
      "\u001b[0;31mNameError\u001b[0m                                 Traceback (most recent call last)",
      "\u001b[0;32m<ipython-input-32-6dfbea569b7d>\u001b[0m in \u001b[0;36m<module>\u001b[0;34m\u001b[0m\n\u001b[0;32m----> 1\u001b[0;31m fig = px.histogram(df[df['group']=='treatment'], y='message_preference', color='region',\n\u001b[0m\u001b[1;32m      2\u001b[0m                    \u001b[0mbarmode\u001b[0m\u001b[0;34m=\u001b[0m\u001b[0;34m'group'\u001b[0m\u001b[0;34m,\u001b[0m \u001b[0mhistnorm\u001b[0m\u001b[0;34m=\u001b[0m\u001b[0;34m'percent'\u001b[0m\u001b[0;34m,\u001b[0m\u001b[0;34m\u001b[0m\u001b[0;34m\u001b[0m\u001b[0m\n\u001b[1;32m      3\u001b[0m                    title=aliases['message_preference'].replace(\n\u001b[1;32m      4\u001b[0m                        ' [', '<br>[').replace('would ', 'would<br>'),\n\u001b[1;32m      5\u001b[0m                    category_orders=dict(message_preference=[\"Strongly disagree\", \"Disagree\",\n",
      "\u001b[0;31mNameError\u001b[0m: name 'px' is not defined"
     ]
    }
   ],
   "source": [
    "fig = px.histogram(df[df['group']=='treatment'], y='message_preference', color='region',\n",
    "                   barmode='group', histnorm='percent',\n",
    "                   title=aliases['message_preference'].replace(\n",
    "                       ' [', '<br>[').replace('would ', 'would<br>'),\n",
    "                   category_orders=dict(message_preference=[\"Strongly disagree\", \"Disagree\",\n",
    "                                                            \"Neutral\", \"Agree\", \"Strongly Agree\"]))\n",
    "fig.show()"
   ]
  },
  {
   "cell_type": "markdown",
   "metadata": {},
   "source": [
    "### Control vs. Treatment Group Comparison"
   ]
  },
  {
   "cell_type": "markdown",
   "metadata": {},
   "source": [
    "#### Summary Statistics (Quantitative Variables only? I think...)"
   ]
  },
  {
   "cell_type": "code",
   "execution_count": 33,
   "metadata": {},
   "outputs": [
    {
     "data": {
      "text/html": [
       "<div>\n",
       "<style scoped>\n",
       "    .dataframe tbody tr th:only-of-type {\n",
       "        vertical-align: middle;\n",
       "    }\n",
       "\n",
       "    .dataframe tbody tr th {\n",
       "        vertical-align: top;\n",
       "    }\n",
       "\n",
       "    .dataframe thead th {\n",
       "        text-align: right;\n",
       "    }\n",
       "</style>\n",
       "<table border=\"1\" class=\"dataframe\">\n",
       "  <thead>\n",
       "    <tr style=\"text-align: right;\">\n",
       "      <th></th>\n",
       "      <th>multitasking</th>\n",
       "      <th>short_term_plans</th>\n",
       "      <th>linear_work_style</th>\n",
       "      <th>plan_change_aversion</th>\n",
       "      <th>plan_change_adaptable</th>\n",
       "      <th>lateness_aversion</th>\n",
       "      <th>blank</th>\n",
       "      <th>spare_time_alone</th>\n",
       "      <th>commitment_others_over_self</th>\n",
       "      <th>close_over_casual_friends</th>\n",
       "      <th>internet_friends</th>\n",
       "      <th>support_from_friends</th>\n",
       "      <th>pandemic_effect_magnitude</th>\n",
       "      <th>chosen_task_completion_confidence</th>\n",
       "      <th>complex_task_completion_confidence</th>\n",
       "      <th>likelihood_continued_use</th>\n",
       "      <th>task_motivation</th>\n",
       "      <th>plugin_preference</th>\n",
       "    </tr>\n",
       "  </thead>\n",
       "  <tbody>\n",
       "    <tr>\n",
       "      <th>count</th>\n",
       "      <td>92.000000</td>\n",
       "      <td>92.000000</td>\n",
       "      <td>92.000000</td>\n",
       "      <td>92.000000</td>\n",
       "      <td>92.000000</td>\n",
       "      <td>92.000000</td>\n",
       "      <td>16.000000</td>\n",
       "      <td>92.000000</td>\n",
       "      <td>92.000000</td>\n",
       "      <td>92.000000</td>\n",
       "      <td>92.000000</td>\n",
       "      <td>92.000000</td>\n",
       "      <td>92.000000</td>\n",
       "      <td>89.000000</td>\n",
       "      <td>87.000000</td>\n",
       "      <td>86.000000</td>\n",
       "      <td>88.000000</td>\n",
       "      <td>88.000000</td>\n",
       "    </tr>\n",
       "    <tr>\n",
       "      <th>mean</th>\n",
       "      <td>3.152174</td>\n",
       "      <td>3.521739</td>\n",
       "      <td>4.260870</td>\n",
       "      <td>4.173913</td>\n",
       "      <td>3.434783</td>\n",
       "      <td>4.304348</td>\n",
       "      <td>3.875000</td>\n",
       "      <td>3.891304</td>\n",
       "      <td>3.641304</td>\n",
       "      <td>3.934783</td>\n",
       "      <td>3.315217</td>\n",
       "      <td>3.554348</td>\n",
       "      <td>3.260870</td>\n",
       "      <td>4.370787</td>\n",
       "      <td>3.965517</td>\n",
       "      <td>4.569767</td>\n",
       "      <td>4.772727</td>\n",
       "      <td>4.511364</td>\n",
       "    </tr>\n",
       "    <tr>\n",
       "      <th>std</th>\n",
       "      <td>1.482015</td>\n",
       "      <td>1.143335</td>\n",
       "      <td>0.924271</td>\n",
       "      <td>1.001194</td>\n",
       "      <td>1.216230</td>\n",
       "      <td>0.946238</td>\n",
       "      <td>1.258306</td>\n",
       "      <td>0.954533</td>\n",
       "      <td>1.043889</td>\n",
       "      <td>1.211704</td>\n",
       "      <td>1.221864</td>\n",
       "      <td>1.286994</td>\n",
       "      <td>1.451559</td>\n",
       "      <td>0.788872</td>\n",
       "      <td>0.957811</td>\n",
       "      <td>0.759887</td>\n",
       "      <td>0.496592</td>\n",
       "      <td>0.758012</td>\n",
       "    </tr>\n",
       "    <tr>\n",
       "      <th>min</th>\n",
       "      <td>1.000000</td>\n",
       "      <td>1.000000</td>\n",
       "      <td>1.000000</td>\n",
       "      <td>1.000000</td>\n",
       "      <td>1.000000</td>\n",
       "      <td>1.000000</td>\n",
       "      <td>1.000000</td>\n",
       "      <td>1.000000</td>\n",
       "      <td>1.000000</td>\n",
       "      <td>1.000000</td>\n",
       "      <td>1.000000</td>\n",
       "      <td>1.000000</td>\n",
       "      <td>1.000000</td>\n",
       "      <td>1.000000</td>\n",
       "      <td>1.000000</td>\n",
       "      <td>2.000000</td>\n",
       "      <td>3.000000</td>\n",
       "      <td>2.000000</td>\n",
       "    </tr>\n",
       "    <tr>\n",
       "      <th>25%</th>\n",
       "      <td>2.000000</td>\n",
       "      <td>3.000000</td>\n",
       "      <td>4.000000</td>\n",
       "      <td>3.000000</td>\n",
       "      <td>3.000000</td>\n",
       "      <td>4.000000</td>\n",
       "      <td>3.000000</td>\n",
       "      <td>3.000000</td>\n",
       "      <td>3.000000</td>\n",
       "      <td>3.000000</td>\n",
       "      <td>3.000000</td>\n",
       "      <td>3.000000</td>\n",
       "      <td>2.000000</td>\n",
       "      <td>4.000000</td>\n",
       "      <td>3.000000</td>\n",
       "      <td>4.000000</td>\n",
       "      <td>5.000000</td>\n",
       "      <td>4.000000</td>\n",
       "    </tr>\n",
       "    <tr>\n",
       "      <th>50%</th>\n",
       "      <td>3.000000</td>\n",
       "      <td>3.000000</td>\n",
       "      <td>5.000000</td>\n",
       "      <td>4.500000</td>\n",
       "      <td>3.000000</td>\n",
       "      <td>5.000000</td>\n",
       "      <td>4.000000</td>\n",
       "      <td>4.000000</td>\n",
       "      <td>4.000000</td>\n",
       "      <td>4.000000</td>\n",
       "      <td>3.000000</td>\n",
       "      <td>4.000000</td>\n",
       "      <td>3.000000</td>\n",
       "      <td>5.000000</td>\n",
       "      <td>4.000000</td>\n",
       "      <td>5.000000</td>\n",
       "      <td>5.000000</td>\n",
       "      <td>5.000000</td>\n",
       "    </tr>\n",
       "    <tr>\n",
       "      <th>75%</th>\n",
       "      <td>4.250000</td>\n",
       "      <td>5.000000</td>\n",
       "      <td>5.000000</td>\n",
       "      <td>5.000000</td>\n",
       "      <td>5.000000</td>\n",
       "      <td>5.000000</td>\n",
       "      <td>5.000000</td>\n",
       "      <td>5.000000</td>\n",
       "      <td>5.000000</td>\n",
       "      <td>5.000000</td>\n",
       "      <td>4.000000</td>\n",
       "      <td>5.000000</td>\n",
       "      <td>5.000000</td>\n",
       "      <td>5.000000</td>\n",
       "      <td>5.000000</td>\n",
       "      <td>5.000000</td>\n",
       "      <td>5.000000</td>\n",
       "      <td>5.000000</td>\n",
       "    </tr>\n",
       "    <tr>\n",
       "      <th>max</th>\n",
       "      <td>5.000000</td>\n",
       "      <td>5.000000</td>\n",
       "      <td>5.000000</td>\n",
       "      <td>5.000000</td>\n",
       "      <td>5.000000</td>\n",
       "      <td>5.000000</td>\n",
       "      <td>5.000000</td>\n",
       "      <td>5.000000</td>\n",
       "      <td>5.000000</td>\n",
       "      <td>5.000000</td>\n",
       "      <td>5.000000</td>\n",
       "      <td>5.000000</td>\n",
       "      <td>5.000000</td>\n",
       "      <td>5.000000</td>\n",
       "      <td>5.000000</td>\n",
       "      <td>5.000000</td>\n",
       "      <td>5.000000</td>\n",
       "      <td>5.000000</td>\n",
       "    </tr>\n",
       "  </tbody>\n",
       "</table>\n",
       "</div>"
      ],
      "text/plain": [
       "       multitasking  short_term_plans  linear_work_style  \\\n",
       "count     92.000000         92.000000          92.000000   \n",
       "mean       3.152174          3.521739           4.260870   \n",
       "std        1.482015          1.143335           0.924271   \n",
       "min        1.000000          1.000000           1.000000   \n",
       "25%        2.000000          3.000000           4.000000   \n",
       "50%        3.000000          3.000000           5.000000   \n",
       "75%        4.250000          5.000000           5.000000   \n",
       "max        5.000000          5.000000           5.000000   \n",
       "\n",
       "       plan_change_aversion  plan_change_adaptable  lateness_aversion  \\\n",
       "count             92.000000              92.000000          92.000000   \n",
       "mean               4.173913               3.434783           4.304348   \n",
       "std                1.001194               1.216230           0.946238   \n",
       "min                1.000000               1.000000           1.000000   \n",
       "25%                3.000000               3.000000           4.000000   \n",
       "50%                4.500000               3.000000           5.000000   \n",
       "75%                5.000000               5.000000           5.000000   \n",
       "max                5.000000               5.000000           5.000000   \n",
       "\n",
       "           blank  spare_time_alone  commitment_others_over_self  \\\n",
       "count  16.000000         92.000000                    92.000000   \n",
       "mean    3.875000          3.891304                     3.641304   \n",
       "std     1.258306          0.954533                     1.043889   \n",
       "min     1.000000          1.000000                     1.000000   \n",
       "25%     3.000000          3.000000                     3.000000   \n",
       "50%     4.000000          4.000000                     4.000000   \n",
       "75%     5.000000          5.000000                     5.000000   \n",
       "max     5.000000          5.000000                     5.000000   \n",
       "\n",
       "       close_over_casual_friends  internet_friends  support_from_friends  \\\n",
       "count                  92.000000         92.000000             92.000000   \n",
       "mean                    3.934783          3.315217              3.554348   \n",
       "std                     1.211704          1.221864              1.286994   \n",
       "min                     1.000000          1.000000              1.000000   \n",
       "25%                     3.000000          3.000000              3.000000   \n",
       "50%                     4.000000          3.000000              4.000000   \n",
       "75%                     5.000000          4.000000              5.000000   \n",
       "max                     5.000000          5.000000              5.000000   \n",
       "\n",
       "       pandemic_effect_magnitude  chosen_task_completion_confidence  \\\n",
       "count                  92.000000                          89.000000   \n",
       "mean                    3.260870                           4.370787   \n",
       "std                     1.451559                           0.788872   \n",
       "min                     1.000000                           1.000000   \n",
       "25%                     2.000000                           4.000000   \n",
       "50%                     3.000000                           5.000000   \n",
       "75%                     5.000000                           5.000000   \n",
       "max                     5.000000                           5.000000   \n",
       "\n",
       "       complex_task_completion_confidence  likelihood_continued_use  \\\n",
       "count                           87.000000                 86.000000   \n",
       "mean                             3.965517                  4.569767   \n",
       "std                              0.957811                  0.759887   \n",
       "min                              1.000000                  2.000000   \n",
       "25%                              3.000000                  4.000000   \n",
       "50%                              4.000000                  5.000000   \n",
       "75%                              5.000000                  5.000000   \n",
       "max                              5.000000                  5.000000   \n",
       "\n",
       "       task_motivation  plugin_preference  \n",
       "count        88.000000          88.000000  \n",
       "mean          4.772727           4.511364  \n",
       "std           0.496592           0.758012  \n",
       "min           3.000000           2.000000  \n",
       "25%           5.000000           4.000000  \n",
       "50%           5.000000           5.000000  \n",
       "75%           5.000000           5.000000  \n",
       "max           5.000000           5.000000  "
      ]
     },
     "execution_count": 33,
     "metadata": {},
     "output_type": "execute_result"
    }
   ],
   "source": [
    "df[df['group']=='treatment'].describe()"
   ]
  },
  {
   "cell_type": "code",
   "execution_count": 34,
   "metadata": {},
   "outputs": [
    {
     "data": {
      "text/html": [
       "<div>\n",
       "<style scoped>\n",
       "    .dataframe tbody tr th:only-of-type {\n",
       "        vertical-align: middle;\n",
       "    }\n",
       "\n",
       "    .dataframe tbody tr th {\n",
       "        vertical-align: top;\n",
       "    }\n",
       "\n",
       "    .dataframe thead th {\n",
       "        text-align: right;\n",
       "    }\n",
       "</style>\n",
       "<table border=\"1\" class=\"dataframe\">\n",
       "  <thead>\n",
       "    <tr style=\"text-align: right;\">\n",
       "      <th></th>\n",
       "      <th>multitasking</th>\n",
       "      <th>short_term_plans</th>\n",
       "      <th>linear_work_style</th>\n",
       "      <th>plan_change_aversion</th>\n",
       "      <th>plan_change_adaptable</th>\n",
       "      <th>lateness_aversion</th>\n",
       "      <th>blank</th>\n",
       "      <th>spare_time_alone</th>\n",
       "      <th>commitment_others_over_self</th>\n",
       "      <th>close_over_casual_friends</th>\n",
       "      <th>internet_friends</th>\n",
       "      <th>support_from_friends</th>\n",
       "      <th>pandemic_effect_magnitude</th>\n",
       "      <th>chosen_task_completion_confidence</th>\n",
       "      <th>complex_task_completion_confidence</th>\n",
       "      <th>likelihood_continued_use</th>\n",
       "      <th>task_motivation</th>\n",
       "      <th>plugin_preference</th>\n",
       "    </tr>\n",
       "  </thead>\n",
       "  <tbody>\n",
       "    <tr>\n",
       "      <th>count</th>\n",
       "      <td>72.000000</td>\n",
       "      <td>72.000000</td>\n",
       "      <td>72.000000</td>\n",
       "      <td>72.000000</td>\n",
       "      <td>72.000000</td>\n",
       "      <td>72.000000</td>\n",
       "      <td>4.000000</td>\n",
       "      <td>72.000000</td>\n",
       "      <td>72.000000</td>\n",
       "      <td>72.000000</td>\n",
       "      <td>72.000000</td>\n",
       "      <td>72.000000</td>\n",
       "      <td>72.000000</td>\n",
       "      <td>72.000000</td>\n",
       "      <td>72.000000</td>\n",
       "      <td>72.000000</td>\n",
       "      <td>72.000000</td>\n",
       "      <td>69.000000</td>\n",
       "    </tr>\n",
       "    <tr>\n",
       "      <th>mean</th>\n",
       "      <td>2.805556</td>\n",
       "      <td>3.305556</td>\n",
       "      <td>3.986111</td>\n",
       "      <td>4.055556</td>\n",
       "      <td>3.486111</td>\n",
       "      <td>4.319444</td>\n",
       "      <td>4.000000</td>\n",
       "      <td>4.111111</td>\n",
       "      <td>3.638889</td>\n",
       "      <td>4.083333</td>\n",
       "      <td>3.111111</td>\n",
       "      <td>3.250000</td>\n",
       "      <td>2.652778</td>\n",
       "      <td>4.319444</td>\n",
       "      <td>3.986111</td>\n",
       "      <td>4.305556</td>\n",
       "      <td>4.736111</td>\n",
       "      <td>3.956522</td>\n",
       "    </tr>\n",
       "    <tr>\n",
       "      <th>std</th>\n",
       "      <td>1.507156</td>\n",
       "      <td>1.108722</td>\n",
       "      <td>0.999902</td>\n",
       "      <td>0.917573</td>\n",
       "      <td>1.162720</td>\n",
       "      <td>0.885348</td>\n",
       "      <td>1.154701</td>\n",
       "      <td>0.986608</td>\n",
       "      <td>0.968599</td>\n",
       "      <td>1.097372</td>\n",
       "      <td>1.273296</td>\n",
       "      <td>1.329513</td>\n",
       "      <td>1.557894</td>\n",
       "      <td>0.747322</td>\n",
       "      <td>0.778099</td>\n",
       "      <td>0.882361</td>\n",
       "      <td>0.649877</td>\n",
       "      <td>0.881756</td>\n",
       "    </tr>\n",
       "    <tr>\n",
       "      <th>min</th>\n",
       "      <td>1.000000</td>\n",
       "      <td>1.000000</td>\n",
       "      <td>1.000000</td>\n",
       "      <td>2.000000</td>\n",
       "      <td>1.000000</td>\n",
       "      <td>2.000000</td>\n",
       "      <td>3.000000</td>\n",
       "      <td>1.000000</td>\n",
       "      <td>1.000000</td>\n",
       "      <td>1.000000</td>\n",
       "      <td>1.000000</td>\n",
       "      <td>1.000000</td>\n",
       "      <td>1.000000</td>\n",
       "      <td>2.000000</td>\n",
       "      <td>2.000000</td>\n",
       "      <td>1.000000</td>\n",
       "      <td>1.000000</td>\n",
       "      <td>2.000000</td>\n",
       "    </tr>\n",
       "    <tr>\n",
       "      <th>25%</th>\n",
       "      <td>1.000000</td>\n",
       "      <td>3.000000</td>\n",
       "      <td>4.000000</td>\n",
       "      <td>3.000000</td>\n",
       "      <td>2.750000</td>\n",
       "      <td>4.000000</td>\n",
       "      <td>3.000000</td>\n",
       "      <td>3.000000</td>\n",
       "      <td>3.000000</td>\n",
       "      <td>3.000000</td>\n",
       "      <td>2.000000</td>\n",
       "      <td>2.000000</td>\n",
       "      <td>1.000000</td>\n",
       "      <td>4.000000</td>\n",
       "      <td>3.000000</td>\n",
       "      <td>4.000000</td>\n",
       "      <td>5.000000</td>\n",
       "      <td>3.000000</td>\n",
       "    </tr>\n",
       "    <tr>\n",
       "      <th>50%</th>\n",
       "      <td>3.000000</td>\n",
       "      <td>3.000000</td>\n",
       "      <td>4.000000</td>\n",
       "      <td>4.000000</td>\n",
       "      <td>4.000000</td>\n",
       "      <td>5.000000</td>\n",
       "      <td>4.000000</td>\n",
       "      <td>4.000000</td>\n",
       "      <td>4.000000</td>\n",
       "      <td>4.000000</td>\n",
       "      <td>3.000000</td>\n",
       "      <td>3.000000</td>\n",
       "      <td>2.000000</td>\n",
       "      <td>4.000000</td>\n",
       "      <td>4.000000</td>\n",
       "      <td>5.000000</td>\n",
       "      <td>5.000000</td>\n",
       "      <td>4.000000</td>\n",
       "    </tr>\n",
       "    <tr>\n",
       "      <th>75%</th>\n",
       "      <td>4.000000</td>\n",
       "      <td>4.000000</td>\n",
       "      <td>5.000000</td>\n",
       "      <td>5.000000</td>\n",
       "      <td>4.000000</td>\n",
       "      <td>5.000000</td>\n",
       "      <td>5.000000</td>\n",
       "      <td>5.000000</td>\n",
       "      <td>4.000000</td>\n",
       "      <td>5.000000</td>\n",
       "      <td>4.000000</td>\n",
       "      <td>4.000000</td>\n",
       "      <td>4.000000</td>\n",
       "      <td>5.000000</td>\n",
       "      <td>5.000000</td>\n",
       "      <td>5.000000</td>\n",
       "      <td>5.000000</td>\n",
       "      <td>5.000000</td>\n",
       "    </tr>\n",
       "    <tr>\n",
       "      <th>max</th>\n",
       "      <td>5.000000</td>\n",
       "      <td>5.000000</td>\n",
       "      <td>5.000000</td>\n",
       "      <td>5.000000</td>\n",
       "      <td>5.000000</td>\n",
       "      <td>5.000000</td>\n",
       "      <td>5.000000</td>\n",
       "      <td>5.000000</td>\n",
       "      <td>5.000000</td>\n",
       "      <td>5.000000</td>\n",
       "      <td>5.000000</td>\n",
       "      <td>5.000000</td>\n",
       "      <td>5.000000</td>\n",
       "      <td>5.000000</td>\n",
       "      <td>5.000000</td>\n",
       "      <td>5.000000</td>\n",
       "      <td>5.000000</td>\n",
       "      <td>5.000000</td>\n",
       "    </tr>\n",
       "  </tbody>\n",
       "</table>\n",
       "</div>"
      ],
      "text/plain": [
       "       multitasking  short_term_plans  linear_work_style  \\\n",
       "count     72.000000         72.000000          72.000000   \n",
       "mean       2.805556          3.305556           3.986111   \n",
       "std        1.507156          1.108722           0.999902   \n",
       "min        1.000000          1.000000           1.000000   \n",
       "25%        1.000000          3.000000           4.000000   \n",
       "50%        3.000000          3.000000           4.000000   \n",
       "75%        4.000000          4.000000           5.000000   \n",
       "max        5.000000          5.000000           5.000000   \n",
       "\n",
       "       plan_change_aversion  plan_change_adaptable  lateness_aversion  \\\n",
       "count             72.000000              72.000000          72.000000   \n",
       "mean               4.055556               3.486111           4.319444   \n",
       "std                0.917573               1.162720           0.885348   \n",
       "min                2.000000               1.000000           2.000000   \n",
       "25%                3.000000               2.750000           4.000000   \n",
       "50%                4.000000               4.000000           5.000000   \n",
       "75%                5.000000               4.000000           5.000000   \n",
       "max                5.000000               5.000000           5.000000   \n",
       "\n",
       "          blank  spare_time_alone  commitment_others_over_self  \\\n",
       "count  4.000000         72.000000                    72.000000   \n",
       "mean   4.000000          4.111111                     3.638889   \n",
       "std    1.154701          0.986608                     0.968599   \n",
       "min    3.000000          1.000000                     1.000000   \n",
       "25%    3.000000          3.000000                     3.000000   \n",
       "50%    4.000000          4.000000                     4.000000   \n",
       "75%    5.000000          5.000000                     4.000000   \n",
       "max    5.000000          5.000000                     5.000000   \n",
       "\n",
       "       close_over_casual_friends  internet_friends  support_from_friends  \\\n",
       "count                  72.000000         72.000000             72.000000   \n",
       "mean                    4.083333          3.111111              3.250000   \n",
       "std                     1.097372          1.273296              1.329513   \n",
       "min                     1.000000          1.000000              1.000000   \n",
       "25%                     3.000000          2.000000              2.000000   \n",
       "50%                     4.000000          3.000000              3.000000   \n",
       "75%                     5.000000          4.000000              4.000000   \n",
       "max                     5.000000          5.000000              5.000000   \n",
       "\n",
       "       pandemic_effect_magnitude  chosen_task_completion_confidence  \\\n",
       "count                  72.000000                          72.000000   \n",
       "mean                    2.652778                           4.319444   \n",
       "std                     1.557894                           0.747322   \n",
       "min                     1.000000                           2.000000   \n",
       "25%                     1.000000                           4.000000   \n",
       "50%                     2.000000                           4.000000   \n",
       "75%                     4.000000                           5.000000   \n",
       "max                     5.000000                           5.000000   \n",
       "\n",
       "       complex_task_completion_confidence  likelihood_continued_use  \\\n",
       "count                           72.000000                 72.000000   \n",
       "mean                             3.986111                  4.305556   \n",
       "std                              0.778099                  0.882361   \n",
       "min                              2.000000                  1.000000   \n",
       "25%                              3.000000                  4.000000   \n",
       "50%                              4.000000                  5.000000   \n",
       "75%                              5.000000                  5.000000   \n",
       "max                              5.000000                  5.000000   \n",
       "\n",
       "       task_motivation  plugin_preference  \n",
       "count        72.000000          69.000000  \n",
       "mean          4.736111           3.956522  \n",
       "std           0.649877           0.881756  \n",
       "min           1.000000           2.000000  \n",
       "25%           5.000000           3.000000  \n",
       "50%           5.000000           4.000000  \n",
       "75%           5.000000           5.000000  \n",
       "max           5.000000           5.000000  "
      ]
     },
     "execution_count": 34,
     "metadata": {},
     "output_type": "execute_result"
    }
   ],
   "source": [
    "df[df['group']=='control'].describe()"
   ]
  },
  {
   "cell_type": "markdown",
   "metadata": {},
   "source": [
    "#### Number of Workers from Global North vs. South"
   ]
  },
  {
   "cell_type": "code",
   "execution_count": 35,
   "metadata": {},
   "outputs": [
    {
     "name": "stdout",
     "output_type": "stream",
     "text": [
      "\n",
      "Number of Workers from Global North vs. South\n",
      "\n",
      "Treatment\n",
      "num_south:  61\n",
      "num_north:  31\n",
      "---------------\n",
      "Control\n",
      "num_south:  32\n",
      "num_north:  40 \n",
      "\n"
     ]
    }
   ],
   "source": [
    "print(\"\\nNumber of Workers from Global North vs. South\\n\")\n",
    "# Treament group\n",
    "print(\"Treatment\")\n",
    "print(\"num_south: \", len(list(filter(lambda x: x == \"global_south\", df[df['group']=='treatment']['region']))))\n",
    "print(\"num_north: \", len(list(filter(lambda x: x == \"global_north\", df[df['group']=='treatment']['region']))))\n",
    "\n",
    "print(\"---------------\")\n",
    "\n",
    "# Control group\n",
    "print(\"Control\")\n",
    "print(\"num_south: \", len(list(filter(lambda x: x == \"global_south\", df[df['group']=='control']['region']))))\n",
    "print(\"num_north: \", len(list(filter(lambda x: x == \"global_north\", df[df['group']=='control']['region']))), \"\\n\")"
   ]
  },
  {
   "cell_type": "markdown",
   "metadata": {},
   "source": [
    "#### Number of Workers from Polychronic and Monochronic cultures"
   ]
  },
  {
   "cell_type": "code",
   "execution_count": 36,
   "metadata": {},
   "outputs": [
    {
     "name": "stdout",
     "output_type": "stream",
     "text": [
      "\n",
      "Number of Workers from Polychronic vs. Monochronic cultures\n",
      "\n",
      "Treatment\n",
      "num_poly:  54\n",
      "num_mono:  38\n",
      "--------------\n",
      "Control\n",
      "num_poly:  31\n",
      "num_mono:  41 \n",
      "\n"
     ]
    }
   ],
   "source": [
    "print(\"\\nNumber of Workers from Polychronic vs. Monochronic cultures\\n\")\n",
    "\n",
    "# Treament group\n",
    "print(\"Treatment\")\n",
    "print(\"num_poly: \", len(list(filter(lambda x: x == \"Polychronic\", df[df['group']=='treatment']['chronicity']))))\n",
    "print(\"num_mono: \", len(list(filter(lambda x: x == \"Monochronic\", df[df['group']=='treatment']['chronicity']))))\n",
    "\n",
    "print(\"--------------\")\n",
    "\n",
    "# Control group\n",
    "print(\"Control\")\n",
    "print(\"num_poly: \", len(list(filter(lambda x: x == \"Polychronic\", df[df['group']=='control']['chronicity']))))\n",
    "print(\"num_mono: \", len(list(filter(lambda x: x == \"Monochronic\", df[df['group']=='control']['chronicity']))), \"\\n\")"
   ]
  },
  {
   "cell_type": "markdown",
   "metadata": {},
   "source": [
    "### Basic Demographics\n",
    "\n",
    "Note that 'current_country' and 'home_country' is not summarized here as we are more interested in the economic region and chronicity (which are implied by the countries)"
   ]
  },
  {
   "cell_type": "markdown",
   "metadata": {},
   "source": [
    "#### Level of education"
   ]
  },
  {
   "cell_type": "code",
   "execution_count": 37,
   "metadata": {},
   "outputs": [
    {
     "data": {
      "text/html": [
       "<div>\n",
       "<style scoped>\n",
       "    .dataframe tbody tr th:only-of-type {\n",
       "        vertical-align: middle;\n",
       "    }\n",
       "\n",
       "    .dataframe tbody tr th {\n",
       "        vertical-align: top;\n",
       "    }\n",
       "\n",
       "    .dataframe thead th {\n",
       "        text-align: right;\n",
       "    }\n",
       "</style>\n",
       "<table border=\"1\" class=\"dataframe\">\n",
       "  <thead>\n",
       "    <tr style=\"text-align: right;\">\n",
       "      <th></th>\n",
       "      <th>education</th>\n",
       "      <th>counts</th>\n",
       "    </tr>\n",
       "  </thead>\n",
       "  <tbody>\n",
       "    <tr>\n",
       "      <th>0</th>\n",
       "      <td>Associate degree</td>\n",
       "      <td>3</td>\n",
       "    </tr>\n",
       "    <tr>\n",
       "      <th>1</th>\n",
       "      <td>Bachelor’s degree</td>\n",
       "      <td>37</td>\n",
       "    </tr>\n",
       "    <tr>\n",
       "      <th>2</th>\n",
       "      <td>Doctorate degree</td>\n",
       "      <td>1</td>\n",
       "    </tr>\n",
       "    <tr>\n",
       "      <th>3</th>\n",
       "      <td>Elementary school</td>\n",
       "      <td>1</td>\n",
       "    </tr>\n",
       "    <tr>\n",
       "      <th>4</th>\n",
       "      <td>High school graduate, diploma or the equivalen...</td>\n",
       "      <td>22</td>\n",
       "    </tr>\n",
       "    <tr>\n",
       "      <th>5</th>\n",
       "      <td>Master’s degree</td>\n",
       "      <td>12</td>\n",
       "    </tr>\n",
       "    <tr>\n",
       "      <th>6</th>\n",
       "      <td>Some college credit, no degree</td>\n",
       "      <td>12</td>\n",
       "    </tr>\n",
       "    <tr>\n",
       "      <th>7</th>\n",
       "      <td>Some high school, no diploma</td>\n",
       "      <td>3</td>\n",
       "    </tr>\n",
       "    <tr>\n",
       "      <th>8</th>\n",
       "      <td>Trade/technical/vocational training</td>\n",
       "      <td>1</td>\n",
       "    </tr>\n",
       "  </tbody>\n",
       "</table>\n",
       "</div>"
      ],
      "text/plain": [
       "                                           education  counts\n",
       "0                                   Associate degree       3\n",
       "1                                  Bachelor’s degree      37\n",
       "2                                   Doctorate degree       1\n",
       "3                                  Elementary school       1\n",
       "4  High school graduate, diploma or the equivalen...      22\n",
       "5                                    Master’s degree      12\n",
       "6                     Some college credit, no degree      12\n",
       "7                       Some high school, no diploma       3\n",
       "8                Trade/technical/vocational training       1"
      ]
     },
     "execution_count": 37,
     "metadata": {},
     "output_type": "execute_result"
    }
   ],
   "source": [
    "# Treatment\n",
    "df[df['group']=='treatment'].groupby(['education']).size().reset_index(name='counts')"
   ]
  },
  {
   "cell_type": "code",
   "execution_count": 38,
   "metadata": {},
   "outputs": [
    {
     "data": {
      "text/html": [
       "<div>\n",
       "<style scoped>\n",
       "    .dataframe tbody tr th:only-of-type {\n",
       "        vertical-align: middle;\n",
       "    }\n",
       "\n",
       "    .dataframe tbody tr th {\n",
       "        vertical-align: top;\n",
       "    }\n",
       "\n",
       "    .dataframe thead th {\n",
       "        text-align: right;\n",
       "    }\n",
       "</style>\n",
       "<table border=\"1\" class=\"dataframe\">\n",
       "  <thead>\n",
       "    <tr style=\"text-align: right;\">\n",
       "      <th></th>\n",
       "      <th>education</th>\n",
       "      <th>counts</th>\n",
       "    </tr>\n",
       "  </thead>\n",
       "  <tbody>\n",
       "    <tr>\n",
       "      <th>0</th>\n",
       "      <td>Associate degree</td>\n",
       "      <td>1</td>\n",
       "    </tr>\n",
       "    <tr>\n",
       "      <th>1</th>\n",
       "      <td>Bachelor’s degree</td>\n",
       "      <td>22</td>\n",
       "    </tr>\n",
       "    <tr>\n",
       "      <th>2</th>\n",
       "      <td>High school graduate, diploma or the equivalen...</td>\n",
       "      <td>11</td>\n",
       "    </tr>\n",
       "    <tr>\n",
       "      <th>3</th>\n",
       "      <td>Master’s degree</td>\n",
       "      <td>9</td>\n",
       "    </tr>\n",
       "    <tr>\n",
       "      <th>4</th>\n",
       "      <td>Professional degree</td>\n",
       "      <td>2</td>\n",
       "    </tr>\n",
       "    <tr>\n",
       "      <th>5</th>\n",
       "      <td>Some college credit, no degree</td>\n",
       "      <td>23</td>\n",
       "    </tr>\n",
       "    <tr>\n",
       "      <th>6</th>\n",
       "      <td>Some high school, no diploma</td>\n",
       "      <td>2</td>\n",
       "    </tr>\n",
       "    <tr>\n",
       "      <th>7</th>\n",
       "      <td>Trade/technical/vocational training</td>\n",
       "      <td>2</td>\n",
       "    </tr>\n",
       "  </tbody>\n",
       "</table>\n",
       "</div>"
      ],
      "text/plain": [
       "                                           education  counts\n",
       "0                                   Associate degree       1\n",
       "1                                  Bachelor’s degree      22\n",
       "2  High school graduate, diploma or the equivalen...      11\n",
       "3                                    Master’s degree       9\n",
       "4                                Professional degree       2\n",
       "5                     Some college credit, no degree      23\n",
       "6                       Some high school, no diploma       2\n",
       "7                Trade/technical/vocational training       2"
      ]
     },
     "execution_count": 38,
     "metadata": {},
     "output_type": "execute_result"
    }
   ],
   "source": [
    "# Control\n",
    "df[df['group']=='control'].groupby(['education']).size().reset_index(name='counts')"
   ]
  },
  {
   "cell_type": "markdown",
   "metadata": {},
   "source": [
    "Note that the control group is missing the \"elementary\" category"
   ]
  },
  {
   "cell_type": "markdown",
   "metadata": {},
   "source": [
    "#### Gender"
   ]
  },
  {
   "cell_type": "code",
   "execution_count": 39,
   "metadata": {},
   "outputs": [
    {
     "data": {
      "text/html": [
       "<div>\n",
       "<style scoped>\n",
       "    .dataframe tbody tr th:only-of-type {\n",
       "        vertical-align: middle;\n",
       "    }\n",
       "\n",
       "    .dataframe tbody tr th {\n",
       "        vertical-align: top;\n",
       "    }\n",
       "\n",
       "    .dataframe thead th {\n",
       "        text-align: right;\n",
       "    }\n",
       "</style>\n",
       "<table border=\"1\" class=\"dataframe\">\n",
       "  <thead>\n",
       "    <tr style=\"text-align: right;\">\n",
       "      <th></th>\n",
       "      <th>gender</th>\n",
       "      <th>counts</th>\n",
       "    </tr>\n",
       "  </thead>\n",
       "  <tbody>\n",
       "    <tr>\n",
       "      <th>0</th>\n",
       "      <td>Female</td>\n",
       "      <td>25</td>\n",
       "    </tr>\n",
       "    <tr>\n",
       "      <th>1</th>\n",
       "      <td>Male</td>\n",
       "      <td>67</td>\n",
       "    </tr>\n",
       "  </tbody>\n",
       "</table>\n",
       "</div>"
      ],
      "text/plain": [
       "   gender  counts\n",
       "0  Female      25\n",
       "1    Male      67"
      ]
     },
     "execution_count": 39,
     "metadata": {},
     "output_type": "execute_result"
    }
   ],
   "source": [
    "# Treatment\n",
    "df[df['group']=='treatment'].groupby(['gender']).size().reset_index(name='counts')"
   ]
  },
  {
   "cell_type": "code",
   "execution_count": 40,
   "metadata": {},
   "outputs": [
    {
     "data": {
      "text/html": [
       "<div>\n",
       "<style scoped>\n",
       "    .dataframe tbody tr th:only-of-type {\n",
       "        vertical-align: middle;\n",
       "    }\n",
       "\n",
       "    .dataframe tbody tr th {\n",
       "        vertical-align: top;\n",
       "    }\n",
       "\n",
       "    .dataframe thead th {\n",
       "        text-align: right;\n",
       "    }\n",
       "</style>\n",
       "<table border=\"1\" class=\"dataframe\">\n",
       "  <thead>\n",
       "    <tr style=\"text-align: right;\">\n",
       "      <th></th>\n",
       "      <th>gender</th>\n",
       "      <th>counts</th>\n",
       "    </tr>\n",
       "  </thead>\n",
       "  <tbody>\n",
       "    <tr>\n",
       "      <th>0</th>\n",
       "      <td>Female</td>\n",
       "      <td>33</td>\n",
       "    </tr>\n",
       "    <tr>\n",
       "      <th>1</th>\n",
       "      <td>Male</td>\n",
       "      <td>39</td>\n",
       "    </tr>\n",
       "  </tbody>\n",
       "</table>\n",
       "</div>"
      ],
      "text/plain": [
       "   gender  counts\n",
       "0  Female      33\n",
       "1    Male      39"
      ]
     },
     "execution_count": 40,
     "metadata": {},
     "output_type": "execute_result"
    }
   ],
   "source": [
    "# Control\n",
    "df[df['group']=='control'].groupby(['gender']).size().reset_index(name='counts')"
   ]
  },
  {
   "cell_type": "markdown",
   "metadata": {},
   "source": [
    "#### Age"
   ]
  },
  {
   "cell_type": "code",
   "execution_count": 41,
   "metadata": {},
   "outputs": [
    {
     "data": {
      "text/html": [
       "<div>\n",
       "<style scoped>\n",
       "    .dataframe tbody tr th:only-of-type {\n",
       "        vertical-align: middle;\n",
       "    }\n",
       "\n",
       "    .dataframe tbody tr th {\n",
       "        vertical-align: top;\n",
       "    }\n",
       "\n",
       "    .dataframe thead th {\n",
       "        text-align: right;\n",
       "    }\n",
       "</style>\n",
       "<table border=\"1\" class=\"dataframe\">\n",
       "  <thead>\n",
       "    <tr style=\"text-align: right;\">\n",
       "      <th></th>\n",
       "      <th>age</th>\n",
       "      <th>counts</th>\n",
       "    </tr>\n",
       "  </thead>\n",
       "  <tbody>\n",
       "    <tr>\n",
       "      <th>0</th>\n",
       "      <td>18-24 years old</td>\n",
       "      <td>25</td>\n",
       "    </tr>\n",
       "    <tr>\n",
       "      <th>1</th>\n",
       "      <td>25-34 years old</td>\n",
       "      <td>47</td>\n",
       "    </tr>\n",
       "    <tr>\n",
       "      <th>2</th>\n",
       "      <td>35-44 years old</td>\n",
       "      <td>16</td>\n",
       "    </tr>\n",
       "    <tr>\n",
       "      <th>3</th>\n",
       "      <td>45-54 years old</td>\n",
       "      <td>1</td>\n",
       "    </tr>\n",
       "    <tr>\n",
       "      <th>4</th>\n",
       "      <td>55-64 years old</td>\n",
       "      <td>3</td>\n",
       "    </tr>\n",
       "  </tbody>\n",
       "</table>\n",
       "</div>"
      ],
      "text/plain": [
       "               age  counts\n",
       "0  18-24 years old      25\n",
       "1  25-34 years old      47\n",
       "2  35-44 years old      16\n",
       "3  45-54 years old       1\n",
       "4  55-64 years old       3"
      ]
     },
     "execution_count": 41,
     "metadata": {},
     "output_type": "execute_result"
    }
   ],
   "source": [
    "# Treatment\n",
    "df[df['group']=='treatment'].groupby(['age']).size().reset_index(name='counts')"
   ]
  },
  {
   "cell_type": "code",
   "execution_count": 42,
   "metadata": {},
   "outputs": [
    {
     "data": {
      "text/html": [
       "<div>\n",
       "<style scoped>\n",
       "    .dataframe tbody tr th:only-of-type {\n",
       "        vertical-align: middle;\n",
       "    }\n",
       "\n",
       "    .dataframe tbody tr th {\n",
       "        vertical-align: top;\n",
       "    }\n",
       "\n",
       "    .dataframe thead th {\n",
       "        text-align: right;\n",
       "    }\n",
       "</style>\n",
       "<table border=\"1\" class=\"dataframe\">\n",
       "  <thead>\n",
       "    <tr style=\"text-align: right;\">\n",
       "      <th></th>\n",
       "      <th>age</th>\n",
       "      <th>counts</th>\n",
       "    </tr>\n",
       "  </thead>\n",
       "  <tbody>\n",
       "    <tr>\n",
       "      <th>0</th>\n",
       "      <td>18-24 years old</td>\n",
       "      <td>22</td>\n",
       "    </tr>\n",
       "    <tr>\n",
       "      <th>1</th>\n",
       "      <td>25-34 years old</td>\n",
       "      <td>30</td>\n",
       "    </tr>\n",
       "    <tr>\n",
       "      <th>2</th>\n",
       "      <td>35-44 years old</td>\n",
       "      <td>15</td>\n",
       "    </tr>\n",
       "    <tr>\n",
       "      <th>3</th>\n",
       "      <td>45-54 years old</td>\n",
       "      <td>4</td>\n",
       "    </tr>\n",
       "    <tr>\n",
       "      <th>4</th>\n",
       "      <td>55-64 years old</td>\n",
       "      <td>1</td>\n",
       "    </tr>\n",
       "  </tbody>\n",
       "</table>\n",
       "</div>"
      ],
      "text/plain": [
       "               age  counts\n",
       "0  18-24 years old      22\n",
       "1  25-34 years old      30\n",
       "2  35-44 years old      15\n",
       "3  45-54 years old       4\n",
       "4  55-64 years old       1"
      ]
     },
     "execution_count": 42,
     "metadata": {},
     "output_type": "execute_result"
    }
   ],
   "source": [
    "# Control\n",
    "df[df['group']=='control'].groupby(['age']).size().reset_index(name='counts')"
   ]
  },
  {
   "cell_type": "markdown",
   "metadata": {},
   "source": [
    "### Summary"
   ]
  },
  {
   "cell_type": "raw",
   "metadata": {},
   "source": [
    "In the treatment group, there are more members of the global south and polychronic individuals than global north or monochronic. However, in the control group the opposite is true, there are more members of the global north and monochronic individuals than global south or polychronic. Another thing to note is that both the control and treatment groups are educated as most have graduated high school. In the control group 59 members are pursuing or have received a degree beyond college compared to 66 in the treatment group. In terms of gender, the treatment group has more than double the amount of males compared to females while in the control group it is more balanced. Looking at both groups' age distributions, most are between the ages of 25-34 year olds as that age range makes of 51% the treatment group and 42% of the control group. These are important to keep in mind when evaluating the groups when coming up with conclusions."
   ]
  },
  {
   "cell_type": "markdown",
   "metadata": {},
   "source": [
    "### Next Step: Demographics given in North vs. South, or Poly vs. Mono?"
   ]
  },
  {
   "cell_type": "code",
   "execution_count": null,
   "metadata": {},
   "outputs": [],
   "source": []
  }
 ],
 "metadata": {
  "kernelspec": {
   "display_name": "Python 3",
   "language": "python",
   "name": "python3"
  },
  "language_info": {
   "codemirror_mode": {
    "name": "ipython",
    "version": 3
   },
   "file_extension": ".py",
   "mimetype": "text/x-python",
   "name": "python",
   "nbconvert_exporter": "python",
   "pygments_lexer": "ipython3",
   "version": "3.8.5"
  }
 },
 "nbformat": 4,
 "nbformat_minor": 5
}
